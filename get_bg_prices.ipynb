{
 "cells": [
  {
   "cell_type": "markdown",
   "metadata": {},
   "source": [
    "## __Board Game Prices__\n",
    "This notebook informs the design of the python script that will be run daily to collect board game prices from BoardGameAtlas.com.  "
   ]
  },
  {
   "cell_type": "code",
   "execution_count": 1,
   "metadata": {},
   "outputs": [],
   "source": [
    "import requests\n",
    "import pandas as pd"
   ]
  },
  {
   "cell_type": "markdown",
   "metadata": {},
   "source": [
    "[API Documentation]('https://www.boardgameatlas.com/api/docs/search')"
   ]
  },
  {
   "cell_type": "markdown",
   "metadata": {},
   "source": [
    "## __Load BGG Data__"
   ]
  },
  {
   "cell_type": "code",
   "execution_count": 2,
   "metadata": {},
   "outputs": [],
   "source": [
    "bgg_df = pd.read_json('bgg_data.json', orient='index')\n",
    "bgg_game_names = bgg_df['name']"
   ]
  },
  {
   "cell_type": "markdown",
   "metadata": {},
   "source": [
    "### __Get BoardGameAtlas IDs__"
   ]
  },
  {
   "cell_type": "code",
   "execution_count": null,
   "metadata": {},
   "outputs": [],
   "source": [
    "client_id = 'FGHRrE9WDJ'\n",
    "bgg_game_names = bgg_df['name']\n",
    "game_ids = {}\n",
    "for game_name in bgg_game_names[:10]:\n",
    "    url = 'https://api.boardgameatlas.com/api/search?name={}&client_id={}'.format(game_name, client_id)\n",
    "    x = requests.get(url).json()\n",
    "    for game in x['games']:\n",
    "        \n",
    "        game_ids = [game['name']] = game['id'] \n"
   ]
  },
  {
   "cell_type": "markdown",
   "metadata": {},
   "source": [
    "### __Get Prices__"
   ]
  },
  {
   "cell_type": "code",
   "execution_count": null,
   "metadata": {},
   "outputs": [],
   "source": [
    "game_id = 'RLlDWHh7hR'\n",
    "prices_url = 'https://api.boardgameatlas.com/api/game/prices?game_id={}&client_id={}'.format(game_id, client_id)\n",
    "game_prices = requests.get(prices_url).json()\n",
    "prices_df = pd.DataFrame(game_prices['prices'])[['price', 'price_text', 'store_name', 'updated_at', 'country']]\n",
    "prices_df[prices_df['country']=='US']"
   ]
  }
 ],
 "metadata": {
  "kernelspec": {
   "display_name": "Python 3",
   "language": "python",
   "name": "python3"
  },
  "language_info": {
   "codemirror_mode": {
    "name": "ipython",
    "version": 3
   },
   "file_extension": ".py",
   "mimetype": "text/x-python",
   "name": "python",
   "nbconvert_exporter": "python",
   "pygments_lexer": "ipython3",
   "version": "3.8.3"
  }
 },
 "nbformat": 4,
 "nbformat_minor": 4
}
